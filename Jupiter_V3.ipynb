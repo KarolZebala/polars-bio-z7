{
  "cells": [
    {
      "cell_type": "markdown",
      "metadata": {},
      "source": [
        "# Analiza funkcji `cacl_base_seq_quality`\n",
        "\n",
        "W tym notebooku przetestujemy funkcję `cacl_base_seq_quality`, która analizuje jakość sekwencji z pliku FASTQ.\n",
        "\n",
        "- Porównamy zgodność wyników przy różnych typach wejścia (ścieżka do pliku vs DataFrame).\n",
        "- Zweryfikujemy poprawność obliczanych statystyk względem oczekiwanych wartości.\n",
        "- Zmierzymy czas działania funkcji.\n",
        "- Porównamy wydajność z `fastq-rs`"
      ]
    },
    {
      "cell_type": "code",
      "execution_count": null,
      "metadata": {},
      "outputs": [],
      "source": [
        "import polars_bio as pb\n",
        "import polars as pl\n",
        "import pytest\n",
        "import time\n",
        "\n",
        "# Ścieżka do przykładowego pliku FASTQ\n",
        "path = r\"C:\\Users\\Ktos\\Desktop\\NotatkiPW\\SEMESTRII\\TBD\\PROJEKT\\PROJEKT_2\\polars-bio-z7\\benchmark\\src\\min_example.fastq\""
      ]
    },
    {
      "cell_type": "markdown",
      "metadata": {},
      "source": [
        "## Test 1: Sprawdzenie zgodności wyników funkcji przy różnych typach wejścia\n",
        "\n",
        "Funkcja `cacl_base_seq_quality` może przyjmować:\n",
        "- ścieżkę do pliku FASTQ\n",
        "- `DataFrame` utworzony z tego pliku\n",
        "\n",
        "Sprawdzamy, czy wyniki są identyczne."
      ]
    },
    {
      "cell_type": "code",
      "execution_count": null,
      "metadata": {},
      "outputs": [],
      "source": [
        "fastq_df = pb.read_fastq(path)\n",
        "\n",
        "result_from_path = pb.cacl_base_seq_quality(path, output_type=\"polars.DataFrame\")\n",
        "result_from_df = pb.cacl_base_seq_quality(fastq_df, output_type=\"polars.DataFrame\")\n",
        "\n",
        "assert result_from_path.frame_equal(result_from_df), \"Wyniki różnią się przy różnych typach wejścia\"\n",
        "print(\" Test zgodności wyników: OK\")"
      ]
    },
    {
      "cell_type": "markdown",
      "metadata": {},
      "source": [
        "## Test 2: Porównanie wyników z oczekiwanymi wartościami\n",
        "\n",
        "Dla znanych danych FASTQ sprawdzamy czy wartości statystyk zgadzają się z oczekiwaniami."
      ]
    },
    {
      "cell_type": "code",
      "execution_count": null,
      "metadata": {},
      "outputs": [],
      "source": [
        "EXPECTED_ROWS = [\n",
        "    {\"position\": 0, \"min_score\": 2.0, \"max_score\": 31.0, \"median_score\": 2.0, \"q1_score\": 2.0, \"q3_score\": 31.0, \"sample_count\": 3},\n",
        "    {\"position\": 1, \"min_score\": 16.0, \"max_score\": 31.0, \"median_score\": 19.0, \"q1_score\": 16.0, \"q3_score\": 31.0, \"sample_count\": 3},\n",
        "    {\"position\": 2, \"min_score\": 28.0, \"max_score\": 31.0, \"median_score\": 31.0, \"q1_score\": 28.0, \"q3_score\": 33.0, \"sample_count\": 3},\n",
        "]\n",
        "\n",
        "result = pb.cacl_base_seq_quality(path, output_type=\"polars.DataFrame\")\n",
        "\n",
        "for i, expected in enumerate(EXPECTED_ROWS):\n",
        "    row = result[i]\n",
        "    for key, expected_value in expected.items():\n",
        "        actual_value = row[key]\n",
        "        assert actual_value == expected_value, f\"Błąd w {key} dla pozycji {i}: oczekiwano {expected_value}, otrzymano {actual_value}\"\n",
        "print(\" Test poprawności wartości: OK\")"
      ]
    },
    {
      "cell_type": "markdown",
      "metadata": {},
      "source": [
        "## Pomiar czasu działania funkcji"
      ]
    },
    {
      "cell_type": "code",
      "execution_count": null,
      "metadata": {},
      "outputs": [],
      "source": [
        "start = time.time()\n",
        "pb.cacl_base_seq_quality(path, output_type=\"polars.DataFrame\")\n",
        "end = time.time()\n",
        "print(f\" Czas działania funkcji polars_bio: {end - start:.6f} s\")"
      ]
    },
    {
      "cell_type": "markdown",
      "metadata": {},
      "source": [
        "## Porównanie z `fastq-rs`\n",
        "\n",
        "Jeśli biblioteka `fastq-rs` jest dostępna, możemy porównać wydajność."
      ]
    },
    {
      "cell_type": "code",
      "execution_count": null,
      "metadata": {},
      "outputs": [],
      "source": [
        "try:\n",
        "    start = time.time()\n",
        "    frs_calc_quality(path)\n",
        "    end = time.time()\n",
        "    print(f\" Czas działania funkcji fastq-rs: {end - start:.6f} s\")\n",
        "except Exception as e:\n",
        "    print(\" Nie można wykonać fastq-rs. Błąd:\", e)"
      ]
    }
  ],
  "metadata": {
    "kernelspec": {
      "display_name": "Python 3",
      "language": "python",
      "name": "python3"
    },
    "language_info": {
      "name": "python",
      "version": "3.11"
    }
  },
  "nbformat": 4,
  "nbformat_minor": 2
}
