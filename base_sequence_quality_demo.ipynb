{
 "cells": [
  {
   "cell_type": "code",
   "execution_count": null,
   "id": "3c6f8212",
   "metadata": {},
   "outputs": [],
   "source": [
    "#  Setup: Importy i przygotowanie środowiska\n",
    "import polars as pl\n",
    "import pandas as pd\n",
    "from quality_op import cacl_base_seq_quality  # idk czy import jest poprawny\n",
    "import matplotlib.pyplot as plt"
   ]
  },
  {
   "cell_type": "code",
   "execution_count": null,
   "id": "129801ba",
   "metadata": {},
   "outputs": [],
   "source": [
    "# Przykładowe dane jakości (Polars DataFrame)\n",
    "df_polars = pl.DataFrame({\n",
    "    \"quality_scores\": [\"!!!\", \">>>\", \"###\"]\n",
    "})"
   ]
  },
  {
   "cell_type": "code",
   "execution_count": null,
   "id": "bc4fb47e",
   "metadata": {},
   "outputs": [],
   "source": [
    "# Przykład działania na Polars DataFrame\n",
    "result_polars = cacl_base_seq_quality(df_polars)\n",
    "print(\"Wynik dla Polars DF:\")\n",
    "print(result_polars)"
   ]
  },
  {
   "cell_type": "code",
   "execution_count": null,
   "id": "55df1df6",
   "metadata": {},
   "outputs": [],
   "source": [
    "# Przykładowe dane jakości (Pandas DataFrame)\n",
    "df_pandas = pd.DataFrame({\n",
    "    \"quality_scores\": [\"!!!\", \">>>\", \"###\"]\n",
    "})"
   ]
  },
  {
   "cell_type": "code",
   "execution_count": null,
   "id": "2629c99f",
   "metadata": {},
   "outputs": [],
   "source": [
    "# Przykład działania na Pandas DataFrame\n",
    "result_pandas = cacl_base_seq_quality(df_pandas, output_type=\"pandas.DataFrame\")\n",
    "print(\"Wynik dla Pandas DF:\")\n",
    "print(result_pandas)"
   ]
  },
  {
   "cell_type": "code",
   "execution_count": null,
   "id": "8efd07be",
   "metadata": {},
   "outputs": [],
   "source": [
    "# Przykład działania na pliku FASTQ (Zakomentowane bo nie wiem czy ten plik jest i jeżeli jest to gdzie jest)\n",
    "# file_path = \"tu sciezka do tego pliku FASTQ\"\n",
    "# result_fastq = cacl_base_seq_quality(file_path)\n",
    "# print(\"Wynik dla pliku FASTQ:\")\n",
    "# print(result_fastq)"
   ]
  },
  {
   "cell_type": "code",
   "execution_count": null,
   "id": "2f7e4be0",
   "metadata": {},
   "outputs": [],
   "source": [
    "# Wizualizacja jakości bazy (symulowana)\n",
    "# Zakładam, że wynik zawiera kolumny: 'position', 'mean_quality', 'min_quality', 'max_quality'\n",
    "\n",
    "# Jeżeli będą też inne kolummy to trzeba dostosować nazwy w poniższym\n",
    "try:\n",
    "    df_vis = result_polars.to_pandas() if hasattr(result_polars, \"to_pandas\") else result_pandas\n",
    "\n",
    "    plt.figure(figsize=(10, 6))\n",
    "    plt.plot(df_vis['position'], df_vis['mean_quality'], label='Średnia jakość', marker='o')\n",
    "    plt.fill_between(df_vis['position'], df_vis['min_quality'], df_vis['max_quality'], alpha=0.3, label='Zakres jakości (min-max)')\n",
    "    plt.title(\"Base Sequence Quality\")\n",
    "    plt.xlabel(\"Pozycja bazy\")\n",
    "    plt.ylabel(\"Jakość\")\n",
    "    plt.legend()\n",
    "    plt.grid(True)\n",
    "    plt.show()\n",
    "except Exception as e:\n",
    "    print(\"⚠️ Nie udało się wygenerować wykresu. Sprawdź format danych.\")\n",
    "    print(\"Błąd:\", e)"
   ]
  },
  {
   "cell_type": "code",
   "execution_count": null,
   "id": "9376cf1d",
   "metadata": {},
   "outputs": [],
   "source": [
    "# Pomiar czasu działania\n",
    "import time\n",
    "\n",
    "start = time.time()\n",
    "_ = cacl_base_seq_quality(df_polars)\n",
    "end = time.time()\n",
    "print(f\"Czas wykonania funkcji (Polars): {end - start:.4f} s\")"
   ]
  }
 ],
 "metadata": {
  "language_info": {
   "name": "python"
  }
 },
 "nbformat": 4,
 "nbformat_minor": 5
}
