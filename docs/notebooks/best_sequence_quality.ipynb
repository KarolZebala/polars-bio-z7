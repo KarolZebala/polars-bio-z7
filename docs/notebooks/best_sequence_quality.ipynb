{
 "cells": [
  {
   "cell_type": "markdown",
   "id": "fa5e0b95",
   "metadata": {},
   "source": [
    "\n",
    "# Analiza jakości sekwencji bazowej z pliku FASTQ\n",
    "\n",
    "Ten notebook przedstawia przykładowe użycie funkcji `cacl_base_seq_quality` z biblioteki `polars_bio` do analizy jakości bazowej sekwencji DNA.\n"
   ]
  },
  {
   "cell_type": "markdown",
   "id": "51f25988",
   "metadata": {},
   "source": [
    "## Importowanie bibliotek"
   ]
  },
  {
   "cell_type": "code",
   "execution_count": null,
   "id": "aaa6c4e7",
   "metadata": {},
   "outputs": [],
   "source": [
    "\n",
    "import polars_bio as pb"
   ]
  },
  {
   "cell_type": "markdown",
   "id": "aa0c3d8b",
   "metadata": {},
   "source": [
    "## Wczytanie przykładowego pliku FASTQ"
   ]
  },
  {
   "cell_type": "code",
   "execution_count": null,
   "id": "250d8dd1",
   "metadata": {},
   "outputs": [],
   "source": [
    "\n",
    "#Ścieka do pliku .fastq\n",
    "path = \"min_example.fastq\"\n",
    "\n",
    "print('Odczytano zawartość pliku', path)\n",
    "fastq = pb.read_fastq(path).collect().head()\n",
    "print(fastq)"
   ]
  },
  {
   "cell_type": "markdown",
   "id": "b703c1da",
   "metadata": {},
   "source": [
    "## Obliczanie jakości sekwencji bazowej"
   ]
  },
  {
   "cell_type": "markdown",
   "id": "4d293dc1",
   "metadata": {},
   "source": [
    "Dane mozna wczytać z pliku oraz z wcześniej załodowanych df przez funkcję pb.read_fastq"
   ]
  },
  {
   "cell_type": "code",
   "execution_count": null,
   "id": "0f003591",
   "metadata": {},
   "outputs": [],
   "source": [
    "print('Base sequence quality na podstawie odczytu z read_fastq')\n",
    "frames = pb.cacl_base_seq_quality(fastq.collect())\n",
    "print(frames)"
   ]
  },
  {
   "cell_type": "code",
   "execution_count": null,
   "id": "b2d2f616",
   "metadata": {},
   "outputs": [],
   "source": [
    "\n",
    "print('Base sequence quality dla pliku', path)\n",
    "frames_from_file = pb.cacl_base_seq_quality(path)\n",
    "print(frames_from_file)"
   ]
  },
  {
   "cell_type": "markdown",
   "id": "8f0435e7",
   "metadata": {},
   "source": [
    "Typ danych na wyjściu mozna zmieniać parametrem output_type"
   ]
  },
  {
   "cell_type": "code",
   "execution_count": null,
   "id": "8ed39d23",
   "metadata": {},
   "outputs": [],
   "source": [
    "pb.cacl_base_seq_quality(path, output_type='pandas.DataFrame')"
   ]
  },
  {
   "cell_type": "markdown",
   "id": "74720ec0",
   "metadata": {},
   "source": [
    "Mozna równiez zmieniać liczbę wątków"
   ]
  },
  {
   "cell_type": "code",
   "execution_count": null,
   "id": "218aad32",
   "metadata": {},
   "outputs": [],
   "source": [
    "pb.cacl_base_seq_quality(path, target_partitions=4, output_type='pandas.DataFrame')"
   ]
  },
  {
   "cell_type": "markdown",
   "id": "d86ea6c9",
   "metadata": {},
   "source": [
    "Notebook zakończony pomyślnie. Możesz teraz przeanalizować wyniki powyżej lub przeprowadzić testy. "
   ]
  },
  {
   "cell_type": "markdown",
   "id": "3378e751",
   "metadata": {},
   "source": [
    "## Aby przeprowadzić dedykowane testy funkcji należy:\n",
    "Przejśc do katalogu z testami a następnie wykonać komendę:\n",
    "```bash\n",
    "pythest test_quality_op.py\n",
    "```\n",
    "\n"
   ]
  },
  {
   "cell_type": "markdown",
   "id": "8d90199b",
   "metadata": {},
   "source": []
  }
 ],
 "metadata": {
  "language_info": {
   "name": "python"
  }
 },
 "nbformat": 4,
 "nbformat_minor": 5
}
