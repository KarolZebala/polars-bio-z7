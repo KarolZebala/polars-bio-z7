{
 "cells": [
  {
   "cell_type": "markdown",
   "id": "fa5e0b95",
   "metadata": {},
   "source": [
    "\n",
    "# Analiza jakości sekwencji bazowej z pliku FASTQ\n",
    "\n",
    "Ten notebook przedstawia przykładowe użycie funkcji `cacl_base_seq_quality` z biblioteki `polars_bio` do analizy jakości bazowej sekwencji DNA.\n"
   ]
  },
  {
   "cell_type": "markdown",
   "id": "51f25988",
   "metadata": {},
   "source": [
    "## Importowanie bibliotek"
   ]
  },
  {
   "cell_type": "code",
   "execution_count": 1,
   "id": "aaa6c4e7",
   "metadata": {},
   "outputs": [
    {
     "name": "stderr",
     "output_type": "stream",
     "text": [
      "/Users/karolzebala/Desktop/studia/Semestr 2/tbd/proj2/tbd_proj_2/lib/python3.13/site-packages/tqdm/auto.py:21: TqdmWarning: IProgress not found. Please update jupyter and ipywidgets. See https://ipywidgets.readthedocs.io/en/stable/user_install.html\n",
      "  from .autonotebook import tqdm as notebook_tqdm\n",
      "INFO:polars_bio:Creating BioSessionContext\n"
     ]
    }
   ],
   "source": [
    "\n",
    "import polars_bio as pb"
   ]
  },
  {
   "cell_type": "markdown",
   "id": "aa0c3d8b",
   "metadata": {},
   "source": [
    "## Wczytanie przykładowego pliku FASTQ"
   ]
  },
  {
   "cell_type": "code",
   "execution_count": 12,
   "id": "250d8dd1",
   "metadata": {},
   "outputs": [
    {
     "name": "stdout",
     "output_type": "stream",
     "text": [
      "Odczytano zawartość pliku example.fastq\n"
     ]
    },
    {
     "name": "stderr",
     "output_type": "stream",
     "text": [
      "200rows [00:00, 81728.45rows/s]"
     ]
    },
    {
     "name": "stdout",
     "output_type": "stream",
     "text": [
      "shape: (200, 4)\n",
      "┌────────────────┬───────────────────────────┬──────────────────────────┬──────────────────────────┐\n",
      "│ name           ┆ description               ┆ sequence                 ┆ quality_scores           │\n",
      "│ ---            ┆ ---                       ┆ ---                      ┆ ---                      │\n",
      "│ str            ┆ str                       ┆ str                      ┆ str                      │\n",
      "╞════════════════╪═══════════════════════════╪══════════════════════════╪══════════════════════════╡\n",
      "│ SRR9130495.1   ┆ D00236:723:HG32CBCX2:1:11 ┆ NCAATACAAAAGCAATATGGGAGA ┆ #4BDFDFFHGHGGJJJHIIIIGGI │\n",
      "│                ┆ 08:13…                    ┆ AGCTAC…                  ┆ IJGJJG…                  │\n",
      "│ SRR9130495.2   ┆ D00236:723:HG32CBCX2:1:11 ┆ NGTCAAAGATAAGATCAAAAGGCA ┆ #1=DDDDD>DHFH@EFHHGHGGFG │\n",
      "│                ┆ 08:14…                    ┆ CTGGCT…                  ┆ IIIGIG…                  │\n",
      "│ SRR9130495.3   ┆ D00236:723:HG32CBCX2:1:11 ┆ GTTTTCCTCTGGTTATTTCTAGGT ┆ @@@DDDFFHHHFHBHIIGJIJIIJ │\n",
      "│                ┆ 08:17…                    ┆ ACACTG…                  ┆ IIIEHG…                  │\n",
      "│ SRR9130495.4   ┆ D00236:723:HG32CBCX2:1:11 ┆ GGGAGGCGCCCCGACCGGCCAGGG ┆ CCCFFFFFHHHHGHIIIGIIJIII │\n",
      "│                ┆ 08:16…                    ┆ CGTGAG…                  ┆ JJGHFF…                  │\n",
      "│ SRR9130495.5   ┆ D00236:723:HG32CBCX2:1:11 ┆ CACTCCGCCACTACAGCAGTCCCC ┆ ++=A1A:1ADA<;FFDC?;CG<F; │\n",
      "│                ┆ 08:16…                    ┆ CAGTGT…                  ┆ ::1CFI…                  │\n",
      "│ …              ┆ …                         ┆ …                        ┆ …                        │\n",
      "│ SRR9130495.196 ┆ D00236:723:HG32CBCX2:1:11 ┆ TCTTGTGAAGAAGATGCTGTTGGA ┆ CCCFFFFFHGDFGIIJJIJJIGGJ │\n",
      "│                ┆ 08:99…                    ┆ AGCCTC…                  ┆ JIIJJI…                  │\n",
      "│ SRR9130495.197 ┆ D00236:723:HG32CBCX2:1:11 ┆ TGGGGCTGTGAACCGAAGTCTGCT ┆ @BCFFDAFHHHHHIIIIHIIJIIJ │\n",
      "│                ┆ 08:99…                    ┆ CCTTTG…                  ┆ IIJJJI…                  │\n",
      "│ SRR9130495.198 ┆ D00236:723:HG32CBCX2:1:11 ┆ ATGTGCTCAAAGGCTGGGTGGACC ┆ @CCFFFDDFFBHDHIIIBFEGFGH │\n",
      "│                ┆ 08:10…                    ┆ TTACCT…                  ┆ GHGDFH…                  │\n",
      "│ SRR9130495.199 ┆ D00236:723:HG32CBCX2:1:11 ┆ GCCCTGGGATTGTCCCTCTGGGCA ┆ CCCFFBDDHHHFHJIIIJJJJIII │\n",
      "│                ┆ 08:10…                    ┆ CAGGGA…                  ┆ IIFIIE…                  │\n",
      "│ SRR9130495.200 ┆ D00236:723:HG32CBCX2:1:11 ┆ ATGGAGGATGGCACCCTGCAGGCT ┆ @@CDFFDFGFHFFIJGGII<GIJG │\n",
      "│                ┆ 08:10…                    ┆ GGCCCA…                  ┆ IJDIIJ…                  │\n",
      "└────────────────┴───────────────────────────┴──────────────────────────┴──────────────────────────┘\n"
     ]
    },
    {
     "name": "stderr",
     "output_type": "stream",
     "text": [
      "\n"
     ]
    }
   ],
   "source": [
    "\n",
    "#Ścieka do pliku .fastq\n",
    "path = \"example.fastq\"\n",
    "\n",
    "print('Odczytano zawartość pliku', path)\n",
    "fastq = pb.read_fastq(path).collect()\n",
    "print(fastq)"
   ]
  },
  {
   "cell_type": "markdown",
   "id": "b703c1da",
   "metadata": {},
   "source": [
    "## Obliczanie jakości sekwencji bazowej"
   ]
  },
  {
   "cell_type": "markdown",
   "id": "4d293dc1",
   "metadata": {},
   "source": [
    "Dane mozna wczytać z pliku oraz z wcześniej załodowanych df przez funkcję pb.read_fastq"
   ]
  },
  {
   "cell_type": "code",
   "execution_count": 13,
   "id": "0f003591",
   "metadata": {},
   "outputs": [
    {
     "name": "stdout",
     "output_type": "stream",
     "text": [
      "Base sequence quality na podstawie odczytu z read_fastq\n",
      "shape: (101, 7)\n",
      "┌──────────┬──────┬──────┬────────┬──────┬──────┬──────────────┐\n",
      "│ position ┆ min  ┆ max  ┆ median ┆ q1   ┆ q3   ┆ sample_count │\n",
      "│ ---      ┆ ---  ┆ ---  ┆ ---    ┆ ---  ┆ ---  ┆ ---          │\n",
      "│ i64      ┆ f64  ┆ f64  ┆ f64    ┆ f64  ┆ f64  ┆ i64          │\n",
      "╞══════════╪══════╪══════╪════════╪══════╪══════╪══════════════╡\n",
      "│ 0        ┆ 2.0  ┆ 34.0 ┆ 33.0   ┆ 31.0 ┆ 34.0 ┆ 200          │\n",
      "│ 1        ┆ 10.0 ┆ 34.0 ┆ 34.0   ┆ 31.0 ┆ 34.0 ┆ 200          │\n",
      "│ 2        ┆ 16.0 ┆ 34.0 ┆ 34.0   ┆ 31.0 ┆ 34.0 ┆ 200          │\n",
      "│ 3        ┆ 19.0 ┆ 37.0 ┆ 37.0   ┆ 35.0 ┆ 37.0 ┆ 200          │\n",
      "│ 4        ┆ 16.0 ┆ 37.0 ┆ 37.0   ┆ 35.0 ┆ 37.0 ┆ 200          │\n",
      "│ …        ┆ …    ┆ …    ┆ …      ┆ …    ┆ …    ┆ …            │\n",
      "│ 96       ┆ 2.0  ┆ 38.0 ┆ 34.0   ┆ 32.0 ┆ 35.0 ┆ 200          │\n",
      "│ 97       ┆ 2.0  ┆ 38.0 ┆ 34.0   ┆ 31.0 ┆ 35.0 ┆ 200          │\n",
      "│ 98       ┆ 7.0  ┆ 40.0 ┆ 34.0   ┆ 32.0 ┆ 35.0 ┆ 200          │\n",
      "│ 99       ┆ 5.0  ┆ 38.0 ┆ 34.0   ┆ 32.0 ┆ 35.0 ┆ 200          │\n",
      "│ 100      ┆ 7.0  ┆ 37.0 ┆ 34.0   ┆ 31.0 ┆ 35.0 ┆ 200          │\n",
      "└──────────┴──────┴──────┴────────┴──────┴──────┴──────────────┘\n"
     ]
    }
   ],
   "source": [
    "print('Base sequence quality na podstawie odczytu z read_fastq')\n",
    "frames = pb.cacl_base_seq_quality(fastq)\n",
    "print(frames)"
   ]
  },
  {
   "cell_type": "code",
   "execution_count": 9,
   "id": "b2d2f616",
   "metadata": {},
   "outputs": [
    {
     "name": "stdout",
     "output_type": "stream",
     "text": [
      "Base sequence quality dla pliku example.fastq\n",
      "shape: (101, 7)\n",
      "┌──────────┬──────┬──────┬────────┬──────┬──────┬──────────────┐\n",
      "│ position ┆ min  ┆ max  ┆ median ┆ q1   ┆ q3   ┆ sample_count │\n",
      "│ ---      ┆ ---  ┆ ---  ┆ ---    ┆ ---  ┆ ---  ┆ ---          │\n",
      "│ i64      ┆ f64  ┆ f64  ┆ f64    ┆ f64  ┆ f64  ┆ i64          │\n",
      "╞══════════╪══════╪══════╪════════╪══════╪══════╪══════════════╡\n",
      "│ 0        ┆ 2.0  ┆ 34.0 ┆ 33.0   ┆ 31.0 ┆ 34.0 ┆ 200          │\n",
      "│ 1        ┆ 10.0 ┆ 34.0 ┆ 34.0   ┆ 31.0 ┆ 34.0 ┆ 200          │\n",
      "│ 2        ┆ 16.0 ┆ 34.0 ┆ 34.0   ┆ 31.0 ┆ 34.0 ┆ 200          │\n",
      "│ 3        ┆ 19.0 ┆ 37.0 ┆ 37.0   ┆ 35.0 ┆ 37.0 ┆ 200          │\n",
      "│ 4        ┆ 16.0 ┆ 37.0 ┆ 37.0   ┆ 35.0 ┆ 37.0 ┆ 200          │\n",
      "│ …        ┆ …    ┆ …    ┆ …      ┆ …    ┆ …    ┆ …            │\n",
      "│ 96       ┆ 2.0  ┆ 38.0 ┆ 34.0   ┆ 32.0 ┆ 35.0 ┆ 200          │\n",
      "│ 97       ┆ 2.0  ┆ 38.0 ┆ 34.0   ┆ 31.0 ┆ 35.0 ┆ 200          │\n",
      "│ 98       ┆ 7.0  ┆ 40.0 ┆ 34.0   ┆ 32.0 ┆ 35.0 ┆ 200          │\n",
      "│ 99       ┆ 5.0  ┆ 38.0 ┆ 34.0   ┆ 32.0 ┆ 35.0 ┆ 200          │\n",
      "│ 100      ┆ 7.0  ┆ 37.0 ┆ 34.0   ┆ 31.0 ┆ 35.0 ┆ 200          │\n",
      "└──────────┴──────┴──────┴────────┴──────┴──────┴──────────────┘\n"
     ]
    }
   ],
   "source": [
    "\n",
    "print('Base sequence quality dla pliku', path)\n",
    "frames_from_file = pb.cacl_base_seq_quality(path)\n",
    "print(frames_from_file)"
   ]
  },
  {
   "cell_type": "markdown",
   "id": "8f0435e7",
   "metadata": {},
   "source": [
    "Typ danych na wyjściu mozna zmieniać parametrem output_type"
   ]
  },
  {
   "cell_type": "code",
   "execution_count": 10,
   "id": "8ed39d23",
   "metadata": {},
   "outputs": [
    {
     "data": {
      "text/html": [
       "<div>\n",
       "<style scoped>\n",
       "    .dataframe tbody tr th:only-of-type {\n",
       "        vertical-align: middle;\n",
       "    }\n",
       "\n",
       "    .dataframe tbody tr th {\n",
       "        vertical-align: top;\n",
       "    }\n",
       "\n",
       "    .dataframe thead th {\n",
       "        text-align: right;\n",
       "    }\n",
       "</style>\n",
       "<table border=\"1\" class=\"dataframe\">\n",
       "  <thead>\n",
       "    <tr style=\"text-align: right;\">\n",
       "      <th></th>\n",
       "      <th>position</th>\n",
       "      <th>min</th>\n",
       "      <th>max</th>\n",
       "      <th>median</th>\n",
       "      <th>q1</th>\n",
       "      <th>q3</th>\n",
       "      <th>sample_count</th>\n",
       "    </tr>\n",
       "  </thead>\n",
       "  <tbody>\n",
       "    <tr>\n",
       "      <th>0</th>\n",
       "      <td>0</td>\n",
       "      <td>2.0</td>\n",
       "      <td>34.0</td>\n",
       "      <td>33.0</td>\n",
       "      <td>31.0</td>\n",
       "      <td>34.0</td>\n",
       "      <td>200</td>\n",
       "    </tr>\n",
       "    <tr>\n",
       "      <th>1</th>\n",
       "      <td>1</td>\n",
       "      <td>10.0</td>\n",
       "      <td>34.0</td>\n",
       "      <td>34.0</td>\n",
       "      <td>31.0</td>\n",
       "      <td>34.0</td>\n",
       "      <td>200</td>\n",
       "    </tr>\n",
       "    <tr>\n",
       "      <th>2</th>\n",
       "      <td>2</td>\n",
       "      <td>16.0</td>\n",
       "      <td>34.0</td>\n",
       "      <td>34.0</td>\n",
       "      <td>31.0</td>\n",
       "      <td>34.0</td>\n",
       "      <td>200</td>\n",
       "    </tr>\n",
       "    <tr>\n",
       "      <th>3</th>\n",
       "      <td>3</td>\n",
       "      <td>19.0</td>\n",
       "      <td>37.0</td>\n",
       "      <td>37.0</td>\n",
       "      <td>35.0</td>\n",
       "      <td>37.0</td>\n",
       "      <td>200</td>\n",
       "    </tr>\n",
       "    <tr>\n",
       "      <th>4</th>\n",
       "      <td>4</td>\n",
       "      <td>16.0</td>\n",
       "      <td>37.0</td>\n",
       "      <td>37.0</td>\n",
       "      <td>35.0</td>\n",
       "      <td>37.0</td>\n",
       "      <td>200</td>\n",
       "    </tr>\n",
       "    <tr>\n",
       "      <th>...</th>\n",
       "      <td>...</td>\n",
       "      <td>...</td>\n",
       "      <td>...</td>\n",
       "      <td>...</td>\n",
       "      <td>...</td>\n",
       "      <td>...</td>\n",
       "      <td>...</td>\n",
       "    </tr>\n",
       "    <tr>\n",
       "      <th>96</th>\n",
       "      <td>96</td>\n",
       "      <td>2.0</td>\n",
       "      <td>38.0</td>\n",
       "      <td>34.0</td>\n",
       "      <td>32.0</td>\n",
       "      <td>35.0</td>\n",
       "      <td>200</td>\n",
       "    </tr>\n",
       "    <tr>\n",
       "      <th>97</th>\n",
       "      <td>97</td>\n",
       "      <td>2.0</td>\n",
       "      <td>38.0</td>\n",
       "      <td>34.0</td>\n",
       "      <td>31.0</td>\n",
       "      <td>35.0</td>\n",
       "      <td>200</td>\n",
       "    </tr>\n",
       "    <tr>\n",
       "      <th>98</th>\n",
       "      <td>98</td>\n",
       "      <td>7.0</td>\n",
       "      <td>40.0</td>\n",
       "      <td>34.0</td>\n",
       "      <td>32.0</td>\n",
       "      <td>35.0</td>\n",
       "      <td>200</td>\n",
       "    </tr>\n",
       "    <tr>\n",
       "      <th>99</th>\n",
       "      <td>99</td>\n",
       "      <td>5.0</td>\n",
       "      <td>38.0</td>\n",
       "      <td>34.0</td>\n",
       "      <td>32.0</td>\n",
       "      <td>35.0</td>\n",
       "      <td>200</td>\n",
       "    </tr>\n",
       "    <tr>\n",
       "      <th>100</th>\n",
       "      <td>100</td>\n",
       "      <td>7.0</td>\n",
       "      <td>37.0</td>\n",
       "      <td>34.0</td>\n",
       "      <td>31.0</td>\n",
       "      <td>35.0</td>\n",
       "      <td>200</td>\n",
       "    </tr>\n",
       "  </tbody>\n",
       "</table>\n",
       "<p>101 rows × 7 columns</p>\n",
       "</div>"
      ],
      "text/plain": [
       "     position   min   max  median    q1    q3  sample_count\n",
       "0           0   2.0  34.0    33.0  31.0  34.0           200\n",
       "1           1  10.0  34.0    34.0  31.0  34.0           200\n",
       "2           2  16.0  34.0    34.0  31.0  34.0           200\n",
       "3           3  19.0  37.0    37.0  35.0  37.0           200\n",
       "4           4  16.0  37.0    37.0  35.0  37.0           200\n",
       "..        ...   ...   ...     ...   ...   ...           ...\n",
       "96         96   2.0  38.0    34.0  32.0  35.0           200\n",
       "97         97   2.0  38.0    34.0  31.0  35.0           200\n",
       "98         98   7.0  40.0    34.0  32.0  35.0           200\n",
       "99         99   5.0  38.0    34.0  32.0  35.0           200\n",
       "100       100   7.0  37.0    34.0  31.0  35.0           200\n",
       "\n",
       "[101 rows x 7 columns]"
      ]
     },
     "execution_count": 10,
     "metadata": {},
     "output_type": "execute_result"
    }
   ],
   "source": [
    "pb.cacl_base_seq_quality(path, output_type='pandas.DataFrame')"
   ]
  },
  {
   "cell_type": "markdown",
   "id": "74720ec0",
   "metadata": {},
   "source": [
    "Mozna równiez zmieniać liczbę wątków"
   ]
  },
  {
   "cell_type": "code",
   "execution_count": 11,
   "id": "218aad32",
   "metadata": {},
   "outputs": [
    {
     "data": {
      "text/html": [
       "<div>\n",
       "<style scoped>\n",
       "    .dataframe tbody tr th:only-of-type {\n",
       "        vertical-align: middle;\n",
       "    }\n",
       "\n",
       "    .dataframe tbody tr th {\n",
       "        vertical-align: top;\n",
       "    }\n",
       "\n",
       "    .dataframe thead th {\n",
       "        text-align: right;\n",
       "    }\n",
       "</style>\n",
       "<table border=\"1\" class=\"dataframe\">\n",
       "  <thead>\n",
       "    <tr style=\"text-align: right;\">\n",
       "      <th></th>\n",
       "      <th>position</th>\n",
       "      <th>min</th>\n",
       "      <th>max</th>\n",
       "      <th>median</th>\n",
       "      <th>q1</th>\n",
       "      <th>q3</th>\n",
       "      <th>sample_count</th>\n",
       "    </tr>\n",
       "  </thead>\n",
       "  <tbody>\n",
       "    <tr>\n",
       "      <th>0</th>\n",
       "      <td>0</td>\n",
       "      <td>2.0</td>\n",
       "      <td>34.0</td>\n",
       "      <td>33.0</td>\n",
       "      <td>31.0</td>\n",
       "      <td>34.0</td>\n",
       "      <td>200</td>\n",
       "    </tr>\n",
       "    <tr>\n",
       "      <th>1</th>\n",
       "      <td>1</td>\n",
       "      <td>10.0</td>\n",
       "      <td>34.0</td>\n",
       "      <td>34.0</td>\n",
       "      <td>31.0</td>\n",
       "      <td>34.0</td>\n",
       "      <td>200</td>\n",
       "    </tr>\n",
       "    <tr>\n",
       "      <th>2</th>\n",
       "      <td>2</td>\n",
       "      <td>16.0</td>\n",
       "      <td>34.0</td>\n",
       "      <td>34.0</td>\n",
       "      <td>31.0</td>\n",
       "      <td>34.0</td>\n",
       "      <td>200</td>\n",
       "    </tr>\n",
       "    <tr>\n",
       "      <th>3</th>\n",
       "      <td>3</td>\n",
       "      <td>19.0</td>\n",
       "      <td>37.0</td>\n",
       "      <td>37.0</td>\n",
       "      <td>35.0</td>\n",
       "      <td>37.0</td>\n",
       "      <td>200</td>\n",
       "    </tr>\n",
       "    <tr>\n",
       "      <th>4</th>\n",
       "      <td>4</td>\n",
       "      <td>16.0</td>\n",
       "      <td>37.0</td>\n",
       "      <td>37.0</td>\n",
       "      <td>35.0</td>\n",
       "      <td>37.0</td>\n",
       "      <td>200</td>\n",
       "    </tr>\n",
       "    <tr>\n",
       "      <th>...</th>\n",
       "      <td>...</td>\n",
       "      <td>...</td>\n",
       "      <td>...</td>\n",
       "      <td>...</td>\n",
       "      <td>...</td>\n",
       "      <td>...</td>\n",
       "      <td>...</td>\n",
       "    </tr>\n",
       "    <tr>\n",
       "      <th>96</th>\n",
       "      <td>96</td>\n",
       "      <td>2.0</td>\n",
       "      <td>38.0</td>\n",
       "      <td>34.0</td>\n",
       "      <td>32.0</td>\n",
       "      <td>35.0</td>\n",
       "      <td>200</td>\n",
       "    </tr>\n",
       "    <tr>\n",
       "      <th>97</th>\n",
       "      <td>97</td>\n",
       "      <td>2.0</td>\n",
       "      <td>38.0</td>\n",
       "      <td>34.0</td>\n",
       "      <td>31.0</td>\n",
       "      <td>35.0</td>\n",
       "      <td>200</td>\n",
       "    </tr>\n",
       "    <tr>\n",
       "      <th>98</th>\n",
       "      <td>98</td>\n",
       "      <td>7.0</td>\n",
       "      <td>40.0</td>\n",
       "      <td>34.0</td>\n",
       "      <td>32.0</td>\n",
       "      <td>35.0</td>\n",
       "      <td>200</td>\n",
       "    </tr>\n",
       "    <tr>\n",
       "      <th>99</th>\n",
       "      <td>99</td>\n",
       "      <td>5.0</td>\n",
       "      <td>38.0</td>\n",
       "      <td>34.0</td>\n",
       "      <td>32.0</td>\n",
       "      <td>35.0</td>\n",
       "      <td>200</td>\n",
       "    </tr>\n",
       "    <tr>\n",
       "      <th>100</th>\n",
       "      <td>100</td>\n",
       "      <td>7.0</td>\n",
       "      <td>37.0</td>\n",
       "      <td>34.0</td>\n",
       "      <td>31.0</td>\n",
       "      <td>35.0</td>\n",
       "      <td>200</td>\n",
       "    </tr>\n",
       "  </tbody>\n",
       "</table>\n",
       "<p>101 rows × 7 columns</p>\n",
       "</div>"
      ],
      "text/plain": [
       "     position   min   max  median    q1    q3  sample_count\n",
       "0           0   2.0  34.0    33.0  31.0  34.0           200\n",
       "1           1  10.0  34.0    34.0  31.0  34.0           200\n",
       "2           2  16.0  34.0    34.0  31.0  34.0           200\n",
       "3           3  19.0  37.0    37.0  35.0  37.0           200\n",
       "4           4  16.0  37.0    37.0  35.0  37.0           200\n",
       "..        ...   ...   ...     ...   ...   ...           ...\n",
       "96         96   2.0  38.0    34.0  32.0  35.0           200\n",
       "97         97   2.0  38.0    34.0  31.0  35.0           200\n",
       "98         98   7.0  40.0    34.0  32.0  35.0           200\n",
       "99         99   5.0  38.0    34.0  32.0  35.0           200\n",
       "100       100   7.0  37.0    34.0  31.0  35.0           200\n",
       "\n",
       "[101 rows x 7 columns]"
      ]
     },
     "execution_count": 11,
     "metadata": {},
     "output_type": "execute_result"
    }
   ],
   "source": [
    "pb.cacl_base_seq_quality(path, target_partitions=4, output_type='pandas.DataFrame')"
   ]
  },
  {
   "cell_type": "markdown",
   "id": "d86ea6c9",
   "metadata": {},
   "source": [
    "Notebook zakończony pomyślnie. Możesz teraz przeanalizować wyniki powyżej lub przeprowadzić testy. "
   ]
  },
  {
   "cell_type": "markdown",
   "id": "3378e751",
   "metadata": {},
   "source": [
    "## Aby przeprowadzić dedykowane testy funkcji należy:\n",
    "Przejśc do katalogu z testami a następnie wykonać komendę:\n",
    "```bash\n",
    "pythest test_quality_op.py\n",
    "```\n",
    "\n"
   ]
  },
  {
   "cell_type": "markdown",
   "id": "8d90199b",
   "metadata": {},
   "source": []
  }
 ],
 "metadata": {
  "kernelspec": {
   "display_name": "Python 3 (ipykernel)",
   "language": "python",
   "name": "python3"
  },
  "language_info": {
   "codemirror_mode": {
    "name": "ipython",
    "version": 3
   },
   "file_extension": ".py",
   "mimetype": "text/x-python",
   "name": "python",
   "nbconvert_exporter": "python",
   "pygments_lexer": "ipython3",
   "version": "3.13.3"
  }
 },
 "nbformat": 4,
 "nbformat_minor": 5
}
