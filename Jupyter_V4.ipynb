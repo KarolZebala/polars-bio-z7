{
 "cells": [
  {
   "cell_type": "markdown",
   "id": "fa5e0b95",
   "metadata": {},
   "source": [
    "\n",
    "# Analiza jakości sekwencji bazowej z pliku FASTQ\n",
    "\n",
    "Ten notebook przedstawia przykładowe użycie funkcji `cacl_base_seq_quality` z biblioteki `polars_bio` do analizy jakości bazowej sekwencji DNA.\n"
   ]
  },
  {
   "cell_type": "markdown",
   "id": "51f25988",
   "metadata": {},
   "source": [
    "## Importowanie bibliotek"
   ]
  },
  {
   "cell_type": "code",
   "execution_count": null,
   "id": "aaa6c4e7",
   "metadata": {},
   "outputs": [],
   "source": [
    "\n",
    "import polars_bio as pb\n"
   ]
  },
  {
   "cell_type": "markdown",
   "id": "aa0c3d8b",
   "metadata": {},
   "source": [
    "## Wczytanie przykładowego pliku FASTQ"
   ]
  },
  {
   "cell_type": "code",
   "execution_count": null,
   "id": "250d8dd1",
   "metadata": {},
   "outputs": [],
   "source": [
    "\n",
    "path = \"min_example.fastq\"\n",
    "print('Odczytano zawartość pliku', path)\n",
    "fastq = pb.read_fastq(path).collect().head()\n",
    "print(fastq)\n"
   ]
  },
  {
   "cell_type": "markdown",
   "id": "b703c1da",
   "metadata": {},
   "source": [
    "## Obliczanie jakości sekwencji bazowej"
   ]
  },
  {
   "cell_type": "code",
   "execution_count": null,
   "id": "b2d2f616",
   "metadata": {},
   "outputs": [],
   "source": [
    "\n",
    "print('Base sequence quality dla pliku', path)\n",
    "test = pb.cacl_base_seq_quality(path)\n",
    "print(test)\n"
   ]
  },
  {
   "cell_type": "markdown",
   "id": "d86ea6c9",
   "metadata": {},
   "source": [
    "Notebook zakończony pomyślnie. Możesz teraz przeanalizować wyniki powyżej lub przeprowadzić testy. "
   ]
  },
  {
   "cell_type": "markdown",
   "id": "3378e751",
   "metadata": {},
   "source": [
    "## Aby przeprowadzić dedykowane testy funkcji należy:\n",
    "Przejśc do katalogu z testami a następnie wykonać komendę:\n",
    "\n",
    "pythest test_quality_op.py"
   ]
  }
 ],
 "metadata": {
  "language_info": {
   "name": "python"
  }
 },
 "nbformat": 4,
 "nbformat_minor": 5
}
